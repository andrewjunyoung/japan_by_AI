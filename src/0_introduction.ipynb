{
 "cells": [
  {
   "cell_type": "markdown",
   "metadata": {},
   "source": [
    "# An introduction to Japan's prefectures\n",
    "\n",
    "Let's talk about Japan.\n",
    "\n",
    "And let's start by talking about Japan's socio-political geography.\n",
    "\n",
    "Japan is a country, in east asia, with no land borders to any other countries. It's an archipelago, but the 5 biggest islands that make up Japan are (in order)\\[0\\]:\n",
    "  - Honshuu\n",
    "  - Hokkaidou\n",
    "  - Kyuushuu\n",
    "  - Shikoku\n",
    "  - Okinawa\n",
    "  \n",
    "You may have seen these spelled differently depending on the source.\n",
    "\n",
    "Japan has 47 prefectures, known as «都道府県» («todoufuken») in japanese. In fact, japanese prefectures don't all have identical political roles. There are 4 types of prefecture:\n",
    "  - 1 metropolitan area («都», «to»)\n",
    "  - 1 circuit («道», «dou»)\n",
    "  - 2 fu («府», «fu»)\\[1\\]\n",
    "  - 43 counties («県», «ken»)\\[2\\]\n",
    "  \n",
    "Each of these types bears slightly different political power. For example, Toukyou-to is made up of districts (特別区) which have slightly more political power than regular provincial subdivisions.\n",
    "\n",
    "##### A map labeling the prefectures of japan (english)\n",
    "![A map labeling the prefectures of japan (english)](imgs/prefectures_(eng).gif)\n",
    "\n",
    "\n",
    "## Foot-notes\n",
    "\n",
    "\\[0\\] Not aaccounting for disputed Kuril islands.\n",
    "\n",
    "\\[1\\] The best translation I can find for this word is «(government) office». But, it seems standard in English to use the word «fu» without translation.\n",
    "\n",
    "\\[2\\] (Translation note). The Peoples' Republic of China calls these «counties», and writes them with the same\\[3\\] character. In chinese history, this word had different political status, and so usually get translated as «prefecture» (as is common in modern Japan) or as «district» when refering to the historical meaning. The japanese government uses the word «prefecture» to mean «todoufuken» («都道府県»), that is, *all 4* of these categories. This steers me away from translating «ken» as «prefecture». \n",
    "The United Kingdom uses «county» as its top-level political subdivision, and these counties bear similar political power to japanese «ken». Given the similarity between these two governmental systems; and the similarity with the chinese word, I choose to translate this as «county».\n",
    "\n",
    "\\[3\\] Same character, but simplified differently between japan and china. Chinese (traditional): 懸; Chinese (simplified): 县; Japanese: 県."
   ]
  },
  {
   "cell_type": "markdown",
   "metadata": {},
   "source": [
    "## Post codes in Japan\n",
    "\n",
    "Like many countries, Japan uses post codes to help write addresses succinctly and unambiguously. Japanese postcodes take the form\n",
    "\n",
    "NNN-NNNN\n",
    "\n",
    "where N is a number. Using a regular expression, that's\n",
    "\n",
    "\\d{3}-\\d{4}\n",
    "\n",
    "We'll quite often be using post codes and place names to talk about the geography of japan.\n",
    "\n",
    "\n",
    "##### A map coloring the different post code areas of Japan\n",
    "![A map coloring the different post code areas of Japan](imgs/post_codes.jpg)\n",
    "source: https://public.tableau.com/en-us/s/blog/2015/12/tableau-public-92-now-mapbox-integration"
   ]
  }
 ],
 "metadata": {
  "kernelspec": {
   "display_name": "Python 3",
   "language": "python",
   "name": "python3"
  },
  "language_info": {
   "codemirror_mode": {
    "name": "ipython",
    "version": 3
   },
   "file_extension": ".py",
   "mimetype": "text/x-python",
   "name": "python",
   "nbconvert_exporter": "python",
   "pygments_lexer": "ipython3",
   "version": "3.7.6"
  }
 },
 "nbformat": 4,
 "nbformat_minor": 2
}
